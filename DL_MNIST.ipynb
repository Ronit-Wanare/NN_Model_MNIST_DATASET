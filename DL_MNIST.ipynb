{
  "cells": [
    {
      "cell_type": "markdown",
      "metadata": {
        "id": "THLAhNV_gMWB"
      },
      "source": [
        "IMPORTING RELEVENT LIBRARIES"
      ]
    },
    {
      "cell_type": "code",
      "execution_count": 20,
      "metadata": {
        "id": "R_PZJsbMgRda"
      },
      "outputs": [],
      "source": [
        "import numpy as np\n",
        "import tensorflow as tf\n",
        "\n",
        "import tensorflow_datasets as tfds"
      ]
    },
    {
      "cell_type": "markdown",
      "metadata": {
        "id": "NMfMJF3yiH5U"
      },
      "source": [
        "DATA"
      ]
    },
    {
      "cell_type": "code",
      "execution_count": 21,
      "metadata": {
        "id": "KHcq_N-xiEWG"
      },
      "outputs": [],
      "source": [
        "mnist_dataset , mnist_info =  tfds.load(name = 'mnist', with_info=True, as_supervised=True) #loading the data\n",
        "\n",
        "mnist_train, mnist_test = mnist_dataset['train'], mnist_dataset['test']\n",
        "\n",
        "num_validation_samples = 0.1 * mnist_info.splits['train'].num_examples\n",
        "num_validation_samples = tf.cast(num_validation_samples,tf.int64)\n",
        "\n",
        "num_test_samples = mnist_info.splits['test'].num_examples\n",
        "num_test_samples = tf.cast(num_test_samples,tf.int64)\n",
        "\n",
        "def scale(image,lable):\n",
        "  image = tf.cast(image,tf.float32)\n",
        "  image /= 255.\n",
        "  return image,lable\n",
        "\n",
        "scaled_train_and_validation_data = mnist_train.map(scale)\n",
        "test_data = mnist_test.map(scale)\n",
        "# SHUFFELING THE DATASET SO THAT MODEL WON'T GET CONGUSED DURING MINI-BATCH GD\n",
        "BUFFER_SIZE = 10000 #when we are dealing with enormus datasets we can't suffle all data at once\n",
        "\n",
        "shuffled_train_and_validation_data = scaled_train_and_validation_data.shuffle(BUFFER_SIZE)\n",
        "\n",
        "validation_data = shuffled_train_and_validation_data.take(num_validation_samples)\n",
        "\n",
        "train_data = shuffled_train_and_validation_data.skip(num_validation_samples)\n",
        "# CONVETING TRAIN DATASET TO BATCHES TO PERFORM MINI-BATCH GD\n",
        "BATCH_SIZE = 100\n",
        "\n",
        "train_data = train_data.batch(BATCH_SIZE)\n",
        "validation_data = validation_data.batch(num_validation_samples)\n",
        "test_data = test_data.batch(num_test_samples)\n",
        "\n",
        "# we want out validation set to be as same shape as out train and test data as (as_supervised = True)\n",
        "validation_inputs,validation_targets = next(iter(validation_data))\n",
        "\n"
      ]
    },
    {
      "cell_type": "markdown",
      "metadata": {
        "id": "nA90ZsM4pZrL"
      },
      "source": [
        "OUTLINE THE MODEL"
      ]
    },
    {
      "cell_type": "code",
      "execution_count": 34,
      "metadata": {
        "id": "nF4zIJt2laBL"
      },
      "outputs": [],
      "source": [
        "input_size = 784\n",
        "output_size = 10\n",
        "hidden_layer_size = 100\n",
        "\n",
        "model = tf.keras.Sequential([\n",
        "            \n",
        "            tf.keras.layers.Flatten(input_shape=(28,28,1)),\n",
        "            tf.keras.layers.Dense(hidden_layer_size, activation='relu'),\n",
        "            tf.keras.layers.Dense(hidden_layer_size, activation='relu'),\n",
        "            tf.keras.layers.Dense(output_size, activation='softmax')\n",
        "])"
      ]
    },
    {
      "cell_type": "markdown",
      "metadata": {
        "id": "2M_7SVB0t4RP"
      },
      "source": [
        "OPTIMIZER AND LOSS FUNCTION"
      ]
    },
    {
      "cell_type": "code",
      "execution_count": 36,
      "metadata": {
        "id": "7iAsisfmqX2a"
      },
      "outputs": [],
      "source": [
        "model.compile(optimizer='adam',loss='sparse_categorical_crossentropy',metrics=['accuracy'])"
      ]
    },
    {
      "cell_type": "markdown",
      "metadata": {
        "id": "d_fyz54mwTJB"
      },
      "source": [
        "TRAINING THE DATA"
      ]
    },
    {
      "cell_type": "code",
      "execution_count": 37,
      "metadata": {
        "colab": {
          "base_uri": "https://localhost:8080/"
        },
        "id": "LeXPifEWwSmL",
        "outputId": "e7e149b3-96d6-4885-d3de-87417614b67c"
      },
      "outputs": [
        {
          "name": "stdout",
          "output_type": "stream",
          "text": [
            "Epoch 1/5\n",
            "540/540 - 4s - loss: 0.3328 - accuracy: 0.9054 - val_loss: 0.1691 - val_accuracy: 0.9493 - 4s/epoch - 8ms/step\n",
            "Epoch 2/5\n",
            "540/540 - 4s - loss: 0.1385 - accuracy: 0.9585 - val_loss: 0.0988 - val_accuracy: 0.9692 - 4s/epoch - 7ms/step\n",
            "Epoch 3/5\n",
            "540/540 - 4s - loss: 0.0952 - accuracy: 0.9713 - val_loss: 0.0825 - val_accuracy: 0.9752 - 4s/epoch - 8ms/step\n",
            "Epoch 4/5\n",
            "540/540 - 4s - loss: 0.0734 - accuracy: 0.9779 - val_loss: 0.0639 - val_accuracy: 0.9810 - 4s/epoch - 7ms/step\n",
            "Epoch 5/5\n",
            "540/540 - 4s - loss: 0.0598 - accuracy: 0.9820 - val_loss: 0.0581 - val_accuracy: 0.9820 - 4s/epoch - 7ms/step\n"
          ]
        },
        {
          "data": {
            "text/plain": [
              "<keras.callbacks.History at 0x7f72a48d5a90>"
            ]
          },
          "execution_count": 37,
          "metadata": {},
          "output_type": "execute_result"
        }
      ],
      "source": [
        "NUM_EPOCHS = 5  \n",
        "\n",
        "model.fit(train_data, epochs=NUM_EPOCHS, validation_data=(validation_inputs, validation_targets), verbose =2)\n"
      ]
    },
    {
      "cell_type": "markdown",
      "metadata": {
        "id": "gCT04uYF7Kab"
      },
      "source": [
        "TESTING THE MODEL"
      ]
    },
    {
      "cell_type": "code",
      "execution_count": 38,
      "metadata": {
        "colab": {
          "base_uri": "https://localhost:8080/"
        },
        "id": "aimEQJgs2tda",
        "outputId": "c4f21b12-7a6f-47c8-8e79-1b3476471492"
      },
      "outputs": [
        {
          "name": "stdout",
          "output_type": "stream",
          "text": [
            "1/1 [==============================] - 2s 2s/step - loss: 0.0853 - accuracy: 0.9728\n"
          ]
        }
      ],
      "source": [
        "test_loss, test_accuracy = model.evaluate(test_data)"
      ]
    },
    {
      "cell_type": "code",
      "execution_count": 42,
      "metadata": {
        "colab": {
          "base_uri": "https://localhost:8080/"
        },
        "id": "zna3bgWR9yLE",
        "outputId": "9162862d-1712-4cb6-b618-7eec83c766d7"
      },
      "outputs": [
        {
          "name": "stdout",
          "output_type": "stream",
          "text": [
            "Test loss: 0.09.Test accuracy: 97.28%\n"
          ]
        }
      ],
      "source": [
        "print('Test loss: {0:.2f}.Test accuracy: {1:.2f}%'.format(test_loss, test_accuracy*100))"
      ]
    },
    {
      "cell_type": "code",
      "execution_count": null,
      "metadata": {
        "id": "2np8tTaW-f4p"
      },
      "outputs": [],
      "source": []
    }
  ],
  "metadata": {
    "colab": {
      "collapsed_sections": [],
      "name": "DL_MNIST.ipynb",
      "provenance": []
    },
    "kernelspec": {
      "display_name": "Python 3",
      "name": "python3"
    },
    "language_info": {
      "name": "python"
    }
  },
  "nbformat": 4,
  "nbformat_minor": 0
}
